{
 "cells": [
  {
   "cell_type": "code",
   "execution_count": 1,
   "metadata": {
    "collapsed": true
   },
   "outputs": [],
   "source": [
    "{-# LANGUAGE BangPatterns          #-}\n",
    "{-# LANGUAGE DataKinds             #-}\n",
    "{-# LANGUAGE ScopedTypeVariables   #-}\n",
    "{-# LANGUAGE TypeOperators         #-}\n",
    "{-# LANGUAGE TupleSections         #-}\n",
    "{-# LANGUAGE TypeFamilies          #-}\n",
    "import           Control.Monad\n",
    "import           Control.Monad.Random\n",
    "import           Data.List ( foldl' )\n",
    "\n",
    "import qualified Data.ByteString as B\n",
    "import           Data.Serialize\n",
    "import           Data.Semigroup ( (<>) )\n",
    "\n",
    "import           GHC.TypeLits\n",
    "\n",
    "import qualified Numeric.LinearAlgebra.Static as SA\n",
    "\n",
    "import           Options.Applicative\n",
    "\n",
    "import           Grenade"
   ]
  },
  {
   "cell_type": "code",
   "execution_count": 14,
   "metadata": {
    "collapsed": true
   },
   "outputs": [],
   "source": [
    "type FFNet = Network '[ FullyConnected 2 40, Tanh, FullyConnected 40 10, Relu, FullyConnected 10 1, Logit ]\n",
    "                     '[ D1 2, D1 40, D1 40, D1 10, D1 10, D1 1, D1 1]\n",
    "\n",
    "randomNet :: MonadRandom m => m FFNet\n",
    "randomNet = randomNetwork"
   ]
  },
  {
   "cell_type": "code",
   "execution_count": 3,
   "metadata": {
    "collapsed": true
   },
   "outputs": [],
   "source": [
    "netTrain :: MonadRandom m => FFNet -> LearningParameters -> Int -> Int -> m FFNet\n",
    "netTrain net0 rate n epochs = do\n",
    "    inps <- replicateM n $ do\n",
    "      s  <- getRandom\n",
    "      return $ S1D $ SA.randomVector s SA.Uniform * 2 - 1\n",
    "    let outs = flip map inps $ \\(S1D v) ->\n",
    "                 if v `inCircle` (fromRational 0.33, 0.33)  || v `inCircle` (fromRational (-0.33), 0.33)\n",
    "                   then S1D $ fromRational 1\n",
    "                   else S1D $ fromRational 0\n",
    "\n",
    "    let trainingData = concat $ foldr (const $ (zip inps outs :)) [] [1..epochs] -- TODO: each epoch should be randomized\n",
    "    let trained = foldl' trainEach net0 trainingData\n",
    "    return trained\n",
    "\n",
    "  where\n",
    "    inCircle :: KnownNat n => SA.R n -> (SA.R n, Double) -> Bool\n",
    "    v `inCircle` (o, r) = SA.norm_2 (v - o) <= r\n",
    "    trainEach !network (i,o) = train rate network i o"
   ]
  },
  {
   "cell_type": "code",
   "execution_count": 4,
   "metadata": {
    "collapsed": true
   },
   "outputs": [],
   "source": [
    "netLoad :: FilePath -> IO FFNet\n",
    "netLoad modelPath = do\n",
    "  modelData <- B.readFile modelPath\n",
    "  either fail return $ runGet (get :: Get FFNet) modelData\n",
    "\n",
    "netScore :: FFNet -> IO ()\n",
    "netScore network = do\n",
    "    let testIns = [ [ (x,y)  | x <- [0..50] ]\n",
    "                             | y <- [20,19..0] ]\n",
    "        outMat  = fmap (fmap (\\(x,y) -> (render . normx) $ runNet network (S1D $ SA.vector [x / 25 - 1,y / 10 - 1]))) testIns\n",
    "    putStrLn $ unlines outMat\n",
    "\n",
    "  where\n",
    "    render n'  | n' <= 0.2  = ' '\n",
    "               | n' <= 0.4  = '.'\n",
    "               | n' <= 0.6  = '-'\n",
    "               | n' <= 0.8  = '='\n",
    "               | otherwise = '#'\n",
    "\n",
    "    normx :: S ('D1 1) -> Double\n",
    "    normx (S1D r) = SA.mean r"
   ]
  },
  {
   "cell_type": "code",
   "execution_count": 15,
   "metadata": {},
   "outputs": [
    {
     "data": {
      "text/plain": [
       "###################################################\n",
       "###################################################\n",
       "###################################################\n",
       "###################################################\n",
       "###################################################\n",
       "###################################################\n",
       "###################################################\n",
       "###################################################\n",
       "###################################################\n",
       "###################################################\n",
       "###################################################\n",
       "###################################################\n",
       "###########=====###################################\n",
       "#########=============#############################\n",
       "########================###########################\n",
       "######=====================########################\n",
       "####==========================#####################\n",
       "##===========================######################\n",
       "#=========================#########################\n",
       "#======================############################\n",
       "#===================###############################"
      ]
     },
     "metadata": {},
     "output_type": "display_data"
    }
   ],
   "source": [
    "net0 <- randomNet\n",
    "netScore net0"
   ]
  },
  {
   "cell_type": "code",
   "execution_count": 17,
   "metadata": {},
   "outputs": [
    {
     "data": {
      "text/plain": [
       "                                                   \n",
       "                                                   \n",
       "                                                   \n",
       "                                                   \n",
       "                            -=######=..            \n",
       "                          -############-           \n",
       "                        -##############=.          \n",
       "                       -###############=.          \n",
       "                        .=##############-          \n",
       "                          -=#######==--.           \n",
       "               .-==-..     ...                     \n",
       "           .-=######==-.                           \n",
       "          =############=-                          \n",
       "         .##############.                          \n",
       "         .#############=.                          \n",
       "          .=###########-                           \n",
       "            .-=#####=-.                            \n",
       "               ."
      ]
     },
     "metadata": {},
     "output_type": "display_data"
    }
   ],
   "source": [
    "net <- netTrain net0 (LearningParameters 0.01 0.9 0.0005) 250 400\n",
    "netScore net"
   ]
  },
  {
   "cell_type": "code",
   "execution_count": null,
   "metadata": {
    "collapsed": true
   },
   "outputs": [],
   "source": []
  }
 ],
 "metadata": {
  "kernelspec": {
   "display_name": "Haskell",
   "language": "haskell",
   "name": "haskell"
  },
  "language_info": {
   "codemirror_mode": "ihaskell",
   "file_extension": ".hs",
   "name": "haskell",
   "version": "8.0.2"
  }
 },
 "nbformat": 4,
 "nbformat_minor": 2
}
