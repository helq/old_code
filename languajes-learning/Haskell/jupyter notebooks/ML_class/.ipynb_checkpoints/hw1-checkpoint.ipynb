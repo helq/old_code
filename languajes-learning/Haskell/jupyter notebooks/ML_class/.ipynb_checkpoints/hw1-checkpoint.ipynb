{
 "cells": [
  {
   "cell_type": "code",
   "execution_count": 15,
   "metadata": {},
   "outputs": [],
   "source": [
    "{-# LANGUAGE TemplateHaskell #-}\n",
    "import           Lens.Micro.TH (makeLenses)\n",
    "import           Data.Text (Text, lines, unpack)--, pack)\n",
    "import qualified Data.Text.IO as Text (readFile)\n",
    "import           Data.Maybe (mapMaybe)\n",
    "import           Text.Megaparsec"
   ]
  },
  {
   "cell_type": "code",
   "execution_count": 2,
   "metadata": {},
   "outputs": [],
   "source": [
    "data Song = Song\n",
    "  {\n",
    "    _genre          :: String,\n",
    "    _trackId        :: String,\n",
    "    _artistName     :: String,\n",
    "    _title          :: String,\n",
    "\n",
    "    _loudness       :: Double,\n",
    "    _tempo          :: Double,\n",
    "    _timeSignature  :: Int,\n",
    "    _key            :: Int,\n",
    "    _mode           :: Int,\n",
    "    _duration       :: Double,\n",
    "    _avgTimbre      :: [Double], -- there are only 12 avg_timbre numbers\n",
    "    _varTimbre      :: [Double]  -- there are only 12 var_timbre numbers\n",
    "  } deriving (Eq, Show)\n",
    "\n",
    "makeLenses ''Song"
   ]
  },
  {
   "cell_type": "code",
   "execution_count": 18,
   "metadata": {},
   "outputs": [],
   "source": [
    "parseSong :: Text -> Maybe Song\n",
    "parseSong = parseMaybe songParser\n",
    "     where songParser :: Parsec Dec Text Song\n",
    "           songParser = do\n",
    "             genre_ <- some cell\n",
    "             _ <- char ','\n",
    "             return $ Song genre_ \"\" \"\" \"\" 0 0 0 0 0 0 [0] [0]\n",
    "           cell :: Parsec Dec Text Char\n",
    "           cell = noneOf [',']"
   ]
  },
  {
   "cell_type": "code",
   "execution_count": 19,
   "metadata": {
    "collapsed": true
   },
   "outputs": [],
   "source": [
    "filename = \"./msd_genre_dataset.txt\""
   ]
  },
  {
   "cell_type": "code",
   "execution_count": 20,
   "metadata": {},
   "outputs": [
    {
     "data": {
      "text/plain": []
     },
     "metadata": {},
     "output_type": "display_data"
    }
   ],
   "source": [
    "file <- Text.readFile filename\n",
    "let songs = mapMaybe parseSong . drop 10 $ Data.Text.lines file"
   ]
  },
  {
   "cell_type": "code",
   "execution_count": 21,
   "metadata": {},
   "outputs": [
    {
     "data": {
      "text/plain": [
       "[]"
      ]
     },
     "metadata": {},
     "output_type": "display_data"
    }
   ],
   "source": [
    "take 1 songs"
   ]
  }
 ],
 "metadata": {
  "kernelspec": {
   "display_name": "Haskell",
   "language": "haskell",
   "name": "haskell"
  },
  "language_info": {
   "codemirror_mode": "ihaskell",
   "file_extension": ".hs",
   "name": "haskell",
   "version": "8.0.2"
  }
 },
 "nbformat": 4,
 "nbformat_minor": 2
}
