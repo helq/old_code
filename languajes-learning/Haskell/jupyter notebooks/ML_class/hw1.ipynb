{
 "cells": [
  {
   "cell_type": "code",
   "execution_count": 59,
   "metadata": {},
   "outputs": [],
   "source": [
    "{-# LANGUAGE TemplateHaskell #-}\n",
    "{-# LANGUAGE OverloadedStrings #-}\n",
    "{-# LANGUAGE TypeFamilies #-}\n",
    "\n",
    "import           Lens.Micro.TH (makeLenses)\n",
    "import           Lens.Micro (Lens')--, set)\n",
    "import           Lens.Micro.Extras (view)\n",
    "\n",
    "import           Data.Text (Text, lines, unpack)--, pack)\n",
    "import qualified Data.Text.IO as Text (readFile)\n",
    "import           Data.Maybe (mapMaybe)\n",
    "import           Text.Megaparsec\n",
    "import qualified Text.Megaparsec.Lexer as L"
   ]
  },
  {
   "cell_type": "code",
   "execution_count": 83,
   "metadata": {},
   "outputs": [],
   "source": [
    "data Song = Song\n",
    "  {\n",
    "    _genre          :: String,\n",
    "    _trackId        :: String,\n",
    "    _artistName     :: String,\n",
    "    _title          :: String,\n",
    "\n",
    "    _loudness       :: Double,\n",
    "    _tempo          :: Double,\n",
    "    _timeSignature  :: Integer,\n",
    "    _key            :: Integer,\n",
    "    _mode           :: Integer,\n",
    "    _duration       :: Double,\n",
    "    _avgTimbre      :: [Double], -- there are only 12 avg_timbre numbers\n",
    "    _varTimbre      :: [Double]  -- there are only 12 var_timbre numbers\n",
    "  } deriving (Eq, Show)\n",
    "\n",
    "makeLenses ''Song"
   ]
  },
  {
   "cell_type": "code",
   "execution_count": 120,
   "metadata": {},
   "outputs": [],
   "source": [
    "line2song :: Text -> Maybe Song\n",
    "line2song = parseMaybe songParser\n",
    "\n",
    "songParser :: Parsec Dec Text Song\n",
    "songParser = Song <$> (cell <* comma)\n",
    "                  <*> (cell <* comma)\n",
    "                  <*> (cell <* comma)\n",
    "                  <*> (cell <* comma)\n",
    "                  <*> (double <* comma)\n",
    "                  <*> (double <* comma)\n",
    "                  <*> (integer <* comma)\n",
    "                  <*> (integer <* comma)\n",
    "                  <*> (integer <* comma)\n",
    "                  <*> (double <* comma)\n",
    "                  <*> (count 12 (double <* comma))\n",
    "                  <*> (sepBy double comma) -- there should be 12 in here\n",
    "\n",
    "  where\n",
    "    --cell :: Parsec Dec Text [Char]\n",
    "    cell = some (noneOf [','])\n",
    "    --comma :: Parsec Dec Text ()\n",
    "    comma = char ',' >> return ()\n",
    "    --double :: Parsec Dec Text Double\n",
    "    double  = L.signed (return ()) L.float\n",
    "    integer = L.signed (return ()) L.integer"
   ]
  },
  {
   "cell_type": "code",
   "execution_count": 5,
   "metadata": {
    "collapsed": true
   },
   "outputs": [],
   "source": [
    "filename = \"./msd_genre_dataset.txt\""
   ]
  },
  {
   "cell_type": "code",
   "execution_count": 122,
   "metadata": {},
   "outputs": [
    {
     "data": {
      "text/plain": []
     },
     "metadata": {},
     "output_type": "display_data"
    }
   ],
   "source": [
    "file <- Text.readFile filename\n",
    "let fileLines = Data.Text.lines file\n",
    "let songs = mapMaybe line2song $ drop 10 fileLines"
   ]
  },
  {
   "cell_type": "code",
   "execution_count": 127,
   "metadata": {},
   "outputs": [
    {
     "data": {
      "text/plain": []
     },
     "metadata": {},
     "output_type": "display_data"
    }
   ],
   "source": [
    "mapM_ print . take 3 $ drop 60000 songs"
   ]
  },
  {
   "cell_type": "code",
   "execution_count": null,
   "metadata": {
    "collapsed": true
   },
   "outputs": [],
   "source": []
  }
 ],
 "metadata": {
  "kernelspec": {
   "display_name": "Haskell",
   "language": "haskell",
   "name": "haskell"
  },
  "language_info": {
   "codemirror_mode": "ihaskell",
   "file_extension": ".hs",
   "name": "haskell",
   "version": "8.0.2"
  }
 },
 "nbformat": 4,
 "nbformat_minor": 2
}
